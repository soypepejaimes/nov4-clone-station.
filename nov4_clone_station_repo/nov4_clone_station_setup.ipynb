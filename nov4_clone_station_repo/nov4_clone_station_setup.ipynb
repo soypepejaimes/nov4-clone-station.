{
 "cells": [
  {
   "cell_type": "markdown",
   "metadata": {},
   "source": [
    "# 🚀 NOV4 Clone Station - Setup Inicial para So-VITS-SVC
",
    "Este notebook configura el entorno de entrenamiento y prueba del clonador de voz usando So-VITS-SVC y Google Drive."
   ]
  },
  {
   "cell_type": "code",
   "execution_count": null,
   "metadata": {},
   "outputs": [],
   "source": [
    "# 🔗 1. Clonar el repositorio oficial de So-VITS-SVC
",
    "!git clone https://github.com/svc-develop-team/so-vits-svc.git
",
    "%cd so-vits-svc"
   ]
  },
  {
   "cell_type": "code",
   "execution_count": null,
   "metadata": {},
   "outputs": [],
   "source": [
    "# 📁 2. Montar Google Drive
",
    "from google.colab import drive
",
    "drive.mount('/content/drive')"
   ]
  },
  {
   "cell_type": "code",
   "execution_count": null,
   "metadata": {},
   "outputs": [],
   "source": [
    "# 📦 3. Instalar dependencias necesarias
",
    "!pip install -r requirements.txt"
   ]
  },
  {
   "cell_type": "markdown",
   "metadata": {},
   "source": [
    "### 📂 4. Estructura esperada en Google Drive:
",
    "- Para entrenamiento: `/content/drive/MyDrive/NCS/audio_data/`
",
    "- Para inferencia: `/content/drive/MyDrive/NCS/inferencia/input.wav`
",
    "
",
    "Asegúrate de que tus archivos estén en estas rutas antes de continuar."
   ]
  },
  {
   "cell_type": "code",
   "execution_count": null,
   "metadata": {},
   "outputs": [],
   "source": [
    "# ✅ 5. Verificar que los archivos existan
",
    "import os
",
    "train_path = "/content/drive/MyDrive/NCS/audio_data"
",
    "infer_path = "/content/drive/MyDrive/NCS/inferencia/input.wav"
",
    "
",
    "print("🎧 Archivos de entrenamiento encontrados:", os.listdir(train_path))
",
    "print("🎙️ Archivo de inferencia existe:", os.path.exists(infer_path))"
   ]
  }
 ],
 "metadata": {
  "colab": {
   "name": "nov4_clone_station_setup.ipynb",
   "provenance": []
  },
  "kernelspec": {
   "display_name": "Python 3",
   "language": "python",
   "name": "python3"
  },
  "language_info": {
   "name": "python"
  }
 },
 "nbformat": 4,
 "nbformat_minor": 0
}
